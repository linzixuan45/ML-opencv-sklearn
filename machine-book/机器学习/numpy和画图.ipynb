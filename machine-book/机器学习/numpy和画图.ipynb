{
 "cells": [
  {
   "cell_type": "raw",
   "metadata": {
    "collapsed": true,
    "pycharm": {
     "name": "#%% raw\n"
    }
   },
   "source": [
    "多维度切片 RGB三维数组,B的值改为0\n",
    "以下为一个3通道，4x3 的一张图片\n",
    "在OpenCV中，图像要么是值在0到1之间的32位浮点数组，要么是值在0到255之间的8位整数数组"
   ]
  },
  {
   "cell_type": "code",
   "execution_count": 12,
   "outputs": [],
   "source": [
    "import numpy\n",
    "RGB = numpy.ones((3,4,3),dtype=numpy.uint8) *numpy.array([3,2,3])\n",
    "# 4x4x3  x  1x3 升维度， 3x4x1\n",
    "RGB[2,:,:] =0  #将所有的Blue改为0\n",
    "RGB\n",
    "%matplotlib inline"
   ],
   "metadata": {
    "collapsed": false,
    "pycharm": {
     "name": "#%%\n"
    }
   }
  },
  {
   "cell_type": "code",
   "execution_count": 13,
   "outputs": [
    {
     "data": {
      "text/plain": "<matplotlib.figure.Figure at 0x177918220b8>",
      "image/png": "[encoded data removed]"
     },
     "metadata": {},
     "output_type": "display_data"
    },
    {
     "data": {
      "text/plain": "<matplotlib.figure.Figure at 0x17791ea6fd0>"
     },
     "metadata": {},
     "output_type": "display_data"
    }
   ],
   "source": [
    "import numpy as np\n",
    "import matplotlib.pyplot as plt\n",
    "x = np.linspace(0,10,100)\n",
    "y = np.sin(x)\n",
    "plt.plot(x,y)\n",
    "plt.show()\n",
    "plt.savefig('figures/02.05-sine.png')"
   ],
   "metadata": {
    "collapsed": false,
    "pycharm": {
     "name": "#%%\n"
    }
   }
  },
  {
   "cell_type": "markdown",
   "source": [
    "可视化外部的数据单元\n",
    "load_boston：Boston数据集包含不同城区的房价以及一些有趣的特征，如城镇的人均犯罪率、居住用地比例，以及非零售业务的数量。\n",
    "load_iris：Iris数据集包含三种不同类型的鸢尾花（山鸢尾、花斑鸢尾和维吉尼亚鸢尾）以及描述花萼和花瓣的宽度和长度的4个特征。\n",
    "load_diabetes：diabetes数据集依据患者的年龄、性别、体重指数、平均血压以及6次血清测量值等特征，使我们可以将患者分类为糖尿病患者和非糖尿病患者。\n",
    "load_digits：digits数据集包含数字0～9的8×8像素图像。\n",
    "load_linnerud：Linnerud数据集包含3个生理变量以及3个运动变量，测量了20名健身俱乐部的中年男性。\n"
   ],
   "metadata": {
    "collapsed": false,
    "pycharm": {
     "name": "#%% md\n"
    }
   }
  },
  {
   "cell_type": "markdown",
   "source": [
    "第一种方式,从digitis.images 中提取数据,\n",
    "第二钟方式,从digitis.data提取数据,并进行数据修改,此种弊端是需要重新reshape数据的大小\n"
   ],
   "metadata": {
    "collapsed": false,
    "pycharm": {
     "name": "#%% md\n"
    }
   }
  },
  {
   "cell_type": "code",
   "execution_count": 14,
   "outputs": [
    {
     "data": {
      "text/plain": "(1797, 8, 8)"
     },
     "execution_count": 14,
     "metadata": {},
     "output_type": "execute_result"
    }
   ],
   "source": [
    "import numpy as np\n",
    "import matplotlib.pyplot as plt\n",
    "from sklearn import datasets\n",
    "digits = datasets.load_digits() # digits数据集包含数字0～9的8×8像素图像\n",
    "digits.images.shape"
   ],
   "metadata": {
    "collapsed": false,
    "pycharm": {
     "name": "#%%\n"
    }
   }
  },
  {
   "cell_type": "code",
   "execution_count": 14,
   "outputs": [],
   "source": [],
   "metadata": {
    "collapsed": false,
    "pycharm": {
     "name": "#%%\n"
    }
   }
  },
  {
   "cell_type": "markdown",
   "source": [
    "(1797, 8, 8) 三维数组， 1797张图片，大小为8x8\n",
    "此时digits为一个类，其中images 包含了所有的图片\n",
    "\n",
    "digits.data 是一个二维数组。1797x64（8x8) 也是一张图片"
   ],
   "metadata": {
    "collapsed": false
   }
  },
  {
   "cell_type": "code",
   "execution_count": 15,
   "outputs": [
    {
     "name": "stdout",
     "output_type": "stream",
     "text": [
      "[[  0.   0.   5.  13.   9.   1.   0.   0.]\n",
      " [  0.   0.  13.  15.  10.  15.   5.   0.]\n",
      " [  0.   3.  15.   2.   0.  11.   8.   0.]\n",
      " [  0.   4.  12.   0.   0.   8.   8.   0.]\n",
      " [  0.   5.   8.   0.   0.   9.   8.   0.]\n",
      " [  0.   4.  11.   0.   1.  12.   7.   0.]\n",
      " [  0.   2.  14.   5.  10.  12.   0.   0.]\n",
      " [  0.   0.   6.  13.  10.   0.   0.   0.]]\n"
     ]
    },
    {
     "data": {
      "text/plain": "<matplotlib.image.AxesImage at 0x177920dd240>"
     },
     "execution_count": 15,
     "metadata": {},
     "output_type": "execute_result"
    },
    {
     "data": {
      "text/plain": "<matplotlib.figure.Figure at 0x17792182f28>",
      "image/png": "[encoded data removed]"
     },
     "metadata": {},
     "output_type": "display_data"
    }
   ],
   "source": [
    "digits.data\n",
    "image1 = np.array(digits.data[0]).reshape((8,8))\n",
    "print(image1)\n",
    "plt.savefig('figures/2.22-digit0.png')\n",
    "plt.imshow(image1,cmap= 'gray')"
   ],
   "metadata": {
    "collapsed": false,
    "pycharm": {
     "name": "#%%\n"
    }
   }
  },
  {
   "cell_type": "code",
   "execution_count": 16,
   "outputs": [
    {
     "data": {
      "text/plain": "array([[  0.,   0.,   5.,  13.,   9.,   1.,   0.,   0.],\n       [  0.,   0.,  13.,  15.,  10.,  15.,   5.,   0.],\n       [  0.,   3.,  15.,   2.,   0.,  11.,   8.,   0.],\n       [  0.,   4.,  12.,   0.,   0.,   8.,   8.,   0.],\n       [  0.,   5.,   8.,   0.,   0.,   9.,   8.,   0.],\n       [  0.,   4.,  11.,   0.,   1.,  12.,   7.,   0.],\n       [  0.,   2.,  14.,   5.,  10.,  12.,   0.,   0.],\n       [  0.,   0.,   6.,  13.,  10.,   0.,   0.,   0.]])"
     },
     "execution_count": 16,
     "metadata": {},
     "output_type": "execute_result"
    }
   ],
   "source": [
    "img1 = digits.images[0]\n",
    "img1"
   ],
   "metadata": {
    "collapsed": false,
    "pycharm": {
     "name": "#%%\n"
    }
   }
  },
  {
   "cell_type": "markdown",
   "source": [],
   "metadata": {
    "collapsed": false
   }
  },
  {
   "cell_type": "markdown",
   "source": [
    "pyplot中的figure函数是对于 窗口的设定\n",
    "matplotlib.pyplot.figure(num=None, figsize=None, dpi=None,\n",
    "facecolor=None, edgecolor=None, frameon=True,\n",
    "FigureClass=<class 'matplotlib.figure.Figure'>,\n",
    "clear=False, **kwargs)\n",
    "1）num:这个参数是一个可选参数，即可以给参数也可以不给参数。可以将该num理解为窗口的属性id,即该窗口的身份标识。\n",
    "如果不提供该参数，则创建窗口的时候该参数会自增，如果提供的话则该窗口会以该num为Id存在。\n",
    "（2）figsize:可选参数。整数元组，默认是无。\n",
    "提供整数元组则会以该元组为长宽，若不提供，默认为 rc fiuguer.figsize\n",
    "例如（4，4）即以长4英寸 宽4英寸的大小创建一个窗口\n",
    "（3）dpi：可选参数，整数。表示该窗口的分辨率，如果没有提供则默认为 figure.dpi\n",
    "（4）facecolor：可选参数，表示窗口的背景颜色，如果没有提供则默认为figure.facecolor\n",
    "其中颜色的设置是通过RGB，范围是'#000000'~'#FFFFFF'，其中每2个字节16位表示RGB的0-255\n",
    "例如'#FF0000'表示R:255 G:0 B:0 即红色。\n",
    "（5）edgecolor:可选参数，表示窗口的边框颜色，如果没有提供则默认为figure,edgecolor\n",
    "（6）frameon:可选参数，表示是否绘制窗口的图框，默认是\n",
    "（7）figureclass：暂不了解\n",
    "（8）clear:可选参数，默认是false,如果提供参数为ture，并且该窗口存在的话 则该窗口内容会被清除."
   ],
   "metadata": {
    "collapsed": false
   }
  },
  {
   "cell_type": "code",
   "execution_count": 23,
   "outputs": [
    {
     "data": {
      "text/plain": "<matplotlib.figure.Figure at 0x177931f2a58>",
      "image/png": "[encoded data removed]"
     },
     "metadata": {},
     "output_type": "display_data"
    }
   ],
   "source": [
    "plt.figure(figsize=(14,4))\n",
    "for index in range(1,11,1):\n",
    "    plt.subplot(2,5,index)\n",
    "    plt.imshow(digits.images[index],cmap='gray')\n",
    "    index +=1"
   ],
   "metadata": {
    "collapsed": false,
    "pycharm": {
     "name": "#%%\n"
    }
   }
  },
  {
   "cell_type": "markdown",
   "source": [
    "使用C++中的OpenCV TrainData容器处理数据\n",
    "该容器允许我们从.csv文件加载数值数据.\n",
    "TrainData类\n",
    "\n",
    "TrainData类最重要的方法名为loadFromCSV，该方法接受以下参数：\n",
    "const String& filename：输入文件名。\n",
    "int headerLineCount：开始时跳过的行数。\n",
    "int responseStartIdx：第一个输出变量的索引。\n",
    "int responseEndIdx：最后一个输出变量的索引。\n",
    "const String& varTypeSpec：描述所有输出变量数据类型的一个文本字符串。\n",
    "char delimiter：用于分隔每行值的字符。\n",
    "char missch：用于指定缺失测量值的字符.\n"
   ],
   "metadata": {
    "collapsed": false
   }
  },
  {
   "cell_type": "markdown",
   "source": [],
   "metadata": {
    "collapsed": false
   }
  }
 ],
 "metadata": {
  "kernelspec": {
   "display_name": "Python 3",
   "language": "python",
   "name": "python3"
  },
  "language_info": {
   "codemirror_mode": {
    "name": "ipython",
    "version": 2
   },
   "file_extension": ".py",
   "mimetype": "text/x-python",
   "name": "python",
   "nbconvert_exporter": "python",
   "pygments_lexer": "ipython2",
   "version": "2.7.6"
  }
 },
 "nbformat": 4,
 "nbformat_minor": 0
}