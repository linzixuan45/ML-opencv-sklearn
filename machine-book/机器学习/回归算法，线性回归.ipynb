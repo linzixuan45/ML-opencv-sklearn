{
 "cells": [
  {
   "cell_type": "markdown",
   "metadata": {
    "collapsed": true,
    "pycharm": {
     "name": "#%% md\n"
    }
   },
   "source": [
    "回归是对连续结果的预测，而不是对离散的类标签的预测。\n",
    "线性回归隐含的思想是用特征的一个线性组合来描述一个目标变量\n"
   ]
  },
  {
   "cell_type": "raw",
   "source": [
    "Q：假设我们想用两个特征预测（今天的股票价格和昨天的股票价格）明天的股票价格.\n",
    "我们将今天的股票价格作为第一个特征f1，昨天的股票价格作为第二个特征f2.\n",
    "然后，线性回归的目标是学习两个权重系数：w1和w2，这样我们就可以预测明天的股票价格，如下所示：\n",
    "ŷ=w1f1+w2f2\n",
    "这里，ŷ是明天的真实股票价格y的预测.\n",
    "\n",
    "\n"
   ],
   "metadata": {
    "collapsed": false,
    "pycharm": {
     "name": "#%% raw\n"
    }
   }
  },
  {
   "cell_type": "markdown",
   "source": [
    "只有一个特征变量的特例称为简单线性回归（simple linear regression).\n",
    "\n",
    "如果我们有M个特征值，而不是两个特征值的话，我们可以把方程（3.1）扩展到M个乘积的和\n",
    "ŷ=sum(w*f)\n"
   ],
   "metadata": {
    "collapsed": false,
    "pycharm": {
     "name": "#%% md\n"
    }
   }
  },
  {
   "cell_type": "markdown",
   "source": [
    "在N维空间中，这就是一个超平面。如果一个空间是N维的，那么它的超平面有N–1维.\n",
    "为了让超平面有更多可能,而不是被原点所限制,我们引入了偏置参数\n",
    "ŷ=sum(w*f)+b  其中w,f,b维度一样\n"
   ],
   "metadata": {
    "collapsed": false
   }
  },
  {
   "cell_type": "markdown",
   "source": [
    "我们有许多评分函数可以用于度量回归模型的性能。最常用的代价函数可能就是均方误差了\n",
    "n = y.size\n",
    "MSE  = 1/n*(pow(sum(y-ŷ),2))\n",
    "\n",
    "此时回归问题就变为了一个优化的问题,任务也变成了通过找到最小代价的权重设置"
   ],
   "metadata": {
    "collapsed": false
   }
  },
  {
   "cell_type": "markdown",
   "source": [
    "opencv中的线性回归函数cv2.fitLine"
   ],
   "metadata": {
    "collapsed": false
   }
  },
  {
   "cell_type": "code",
   "execution_count": 5,
   "outputs": [
    {
     "data": {
      "text/plain": "'写一个线性回归的fitLine'"
     },
     "execution_count": 5,
     "metadata": {},
     "output_type": "execute_result"
    }
   ],
   "source": [
    "'''写一个线性回归的fitLine'''"
   ],
   "metadata": {
    "collapsed": false,
    "pycharm": {
     "name": "#%%\n"
    }
   }
  },
  {
   "cell_type": "markdown",
   "source": [
    "1）让我们从生成一些点开始。通过向直线y = 5x + 5上的点添加噪声来生成这些点：\n",
    "\n",
    "注意"
   ],
   "metadata": {
    "collapsed": false
   }
  },
  {
   "cell_type": "code",
   "execution_count": 6,
   "outputs": [
    {
     "name": "stderr",
     "output_type": "stream",
     "text": [
      "UsageError: Line magic function `%mataplotlib` not found.\n"
     ]
    }
   ],
   "source": [
    "'''导入包'''\n",
    "import numpy as np\n",
    "from sklearn import  model_selection\n",
    "import cv2\n",
    "import matplotlib.pyplot as plt\n",
    "%mataplotlib inline\n",
    "from sklearn import  linear_model\n",
    "from sklearn.model_selection import train_test_split\n",
    "plt.style.use('ggplot')\n"
   ],
   "metadata": {
    "collapsed": false,
    "pycharm": {
     "name": "#%%\n"
    }
   }
  },
  {
   "cell_type": "code",
   "execution_count": 7,
   "outputs": [],
   "source": [
    "'''添加噪声'''\n",
    "x = np.linspace(0,10,100)\n",
    "y = x*5 + np.random.randint(-20,20,100)\n",
    "y_hat = x*5\n",
    "\n"
   ],
   "metadata": {
    "collapsed": false,
    "pycharm": {
     "name": "#%%\n"
    }
   }
  },
  {
   "cell_type": "code",
   "execution_count": 8,
   "outputs": [
    {
     "data": {
      "text/plain": "<Figure size 432x288 with 1 Axes>",
      "image/png": "[encoded data removed]"
     },
     "metadata": {
      "needs_background": "light"
     },
     "output_type": "display_data"
    }
   ],
   "source": [
    "'''可视化这些点'''\n",
    "plt.plot(x,y_hat,linewidth = 4)\n",
    "plt.plot(x,y,'x')\n",
    "plt.xlabel('x')\n",
    "plt.ylabel('y')\n",
    "plt.show()\n",
    "\n"
   ],
   "metadata": {
    "collapsed": false,
    "pycharm": {
     "name": "#%%\n"
    }
   }
  },
  {
   "cell_type": "markdown",
   "source": [
    "3）接下来，我们将这数据些点拆分成训练集和测试集。这里，我们根据70:30的比例拆分数据，70%的数据点用于训练，30%的数据点用于测试："
   ],
   "metadata": {
    "collapsed": false
   }
  },
  {
   "cell_type": "code",
   "execution_count": 9,
   "outputs": [
    {
     "data": {
      "text/plain": "((70,), (70,))"
     },
     "execution_count": 9,
     "metadata": {},
     "output_type": "execute_result"
    }
   ],
   "source": [
    "x_train,x_test,y_train, y_test = model_selection.train_test_split(x,y,test_size=0.3,random_state=42)\n",
    "x_train.shape,y_train.shape"
   ],
   "metadata": {
    "collapsed": false,
    "pycharm": {
     "name": "#%%\n"
    }
   }
  },
  {
   "cell_type": "markdown",
   "source": [
    "4）现在，让我们借助cv2.fitLine用一条线拟合这个二维点集。该函数取下列参数：\n",
    "points：这是一条直线必须拟合的点集。\n",
    "distType：这是M-估计所使用的距离.\n",
    "param：这是数值参数（C），用于某些类型的距离。我们将其保持为0，这样就可以选择一个最优值。\n",
    "reps：这是原点到直线的距离准确率。0.01是reps的一个不错的默认值。\n",
    "aeps：这是角度的准确率。0.01是aeps的一个不错的默认值."
   ],
   "metadata": {
    "collapsed": false
   }
  },
  {
   "cell_type": "code",
   "execution_count": 10,
   "outputs": [
    {
     "data": {
      "text/plain": "[2, 1, 4, 6, 7, 5]"
     },
     "execution_count": 10,
     "metadata": {},
     "output_type": "execute_result"
    }
   ],
   "source": [
    "distTypeOption = [cv2.DIST_L2,cv2.DIST_L1,\n",
    "                 cv2.DIST_L12,cv2.DIST_WELSCH,\n",
    "                 cv2.DIST_HUBER,cv2.DIST_FAIR]\n",
    "distTypeLabel = ['L2','L1','L12','welsch','huber','fair']\n",
    "color = ['g','c','m','y','k','b']\n",
    "points = np.array(list((xi,yi)for xi,yi in zip(x_train,y_train)))\n",
    "distTypeOption"
   ],
   "metadata": {
    "collapsed": false,
    "pycharm": {
     "name": "#%%\n"
    }
   }
  },
  {
   "cell_type": "markdown",
   "source": [
    "6）我们还将使用scikit-learn的LinearRegression拟合训练点，然后使用predict函数来预测这些点的y值\n",
    "\n",
    "\n",
    "\n",
    "reshape(m, -1)   改变维度为m行 2维度 [[1,2,3,4]]\n",
    "reshape(1,-1)转为行向量\n",
    "reshape(-1, m)   改变维度为m列 2维度[[1],[2],[3],[4]]\n",
    "reshape(-1,1) 转为列向量"
   ],
   "metadata": {
    "collapsed": false
   }
  },
  {
   "cell_type": "code",
   "source": [
    "from sklearn import  linear_model\n",
    "linerRegression = linear_model.LinearRegression()\n",
    "linerRegression.fit(x_train.reshape(1,-1),y_train.reshape(1,-1))\n",
    "y_sklearn = linerRegression.predict(y_train.reshape(1,-1))\n",
    "y_sklearn = list(y_sklearn.reshape(1,-1)[0])"
   ],
   "metadata": {
    "collapsed": false,
    "pycharm": {
     "name": "#%%\n"
    }
   },
   "execution_count": 11,
   "outputs": []
  },
  {
   "cell_type": "code",
   "execution_count": null,
   "outputs": [],
   "source": [
    "plt.figure(figsize=(10, 6))\n",
    "plt.plot(x, y_hat,linewidth=2,label='Ideal')\n",
    "plt.plot(x,y,'x',label='Data')\n",
    "\n",
    "for i in range(0,len(color)):\n",
    "\n",
    "    distType = distTypeOption[ i]   #[2, 1, 4, 6, 7, 5]\n",
    "\n",
    "    # distTypeLabel = distTypeLabel[i]\n",
    "    c = color[i]\n",
    "\n",
    "    [vxl, vyl, xl, yl] = cv2.fitLine(np.array(points, dtype=np.int32), distType, 0, 0.01, 0.01)\n",
    "    y_cv = [vyl[0]/vxl[0] * (xi - xl[0]) + yl[0] for xi in x]\n",
    "    plt.plot(x,y_cv,c=c,linewidth=2)\n",
    "\n",
    "plt.plot(x,list(y_sklearn),c='0.5', linewidth=2,label='Scikit-Learn API')\n",
    "\n",
    "plt.xlabel('x')\n",
    "plt.ylabel('y')\n",
    "plt.legend(loc='upper left')"
   ],
   "metadata": {
    "collapsed": false,
    "pycharm": {
     "name": "#%%\n"
    }
   }
  },
  {
   "cell_type": "code",
   "execution_count": null,
   "outputs": [],
   "source": [],
   "metadata": {
    "collapsed": false,
    "pycharm": {
     "name": "#%%\n"
    }
   }
  }
 ],
 "metadata": {
  "kernelspec": {
   "display_name": "Python 3",
   "language": "python",
   "name": "python3"
  },
  "language_info": {
   "codemirror_mode": {
    "name": "ipython",
    "version": 2
   },
   "file_extension": ".py",
   "mimetype": "text/x-python",
   "name": "python",
   "nbconvert_exporter": "python",
   "pygments_lexer": "ipython2",
   "version": "2.7.6"
  }
 },
 "nbformat": 4,
 "nbformat_minor": 0
}