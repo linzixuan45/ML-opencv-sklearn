{
 "cells": [
  {
   "cell_type": "markdown",
   "metadata": {
    "pycharm": {
     "name": "#%% md\n"
    }
   },
   "source": [
    "之前写过基于逻辑回归的鸢尾花分类,\n",
    "这一次我们用决策树来试试分类结果"
   ]
  },
  {
   "cell_type": "code",
   "execution_count": 264,
   "metadata": {
    "pycharm": {
     "name": "#%%\n"
    }
   },
   "outputs": [
    {
     "data": {
      "text/plain": [
       "['DESCR',\n",
       " 'data',\n",
       " 'feature_names',\n",
       " 'filename',\n",
       " 'frame',\n",
       " 'target',\n",
       " 'target_names']"
      ]
     },
     "execution_count": 264,
     "metadata": {},
     "output_type": "execute_result"
    }
   ],
   "source": [
    "import sklearn.datasets\n",
    "from pathlib import Path\n",
    "import subprocess\n",
    "from sklearn import tree\n",
    "import numpy as np\n",
    "import matplotlib.pyplot as plt\n",
    "from sklearn import metrics\n",
    "\n",
    "'''加载数据集'''\n",
    "iris = sklearn.datasets.load_iris()\n",
    "dir(iris)"
   ]
  },
  {
   "cell_type": "code",
   "execution_count": 265,
   "metadata": {
    "pycharm": {
     "name": "#%%\n"
    }
   },
   "outputs": [],
   "source": [
    "feature_names  = iris.feature_names\n",
    "#标签有三个['setosa', 'versicolor', 'virginica'] 山鸢尾、变色鸢尾和维吉尼亚鸢尾\n",
    "'''初始化数据'''\n",
    "Data ,target = iris.data,iris.target\n",
    "xTrain,xTest,yTrain,yTest = sklearn.model_selection.train_test_split(Data,target,test_size=0.3,random_state=7)"
   ]
  },
  {
   "cell_type": "markdown",
   "metadata": {},
   "source": [
    "critertion = 'entropy' 采用信息增益的方法,优化决策树\n",
    " 默认'gini\n",
    "在信息增益中，衡量标准是看特征能够为分类系统带来多少信息，带来的信息越多，该特征越重要。对一个特征而言，系统有它和没它时信息量将发生变化，而前后信息量的差值就是这个特征给系统带来的信息量\n",
    "\n",
    "Gini与Entropy的性能区别\n",
    "    根据公式衍生有同：\n",
    "    Gini更适合连续数值变量， 而Entropy更适合符号型变量。\n",
    "    Gini降低最小误分率， 而Entropy具有更好的概率解释性。\n",
    "    Gini运算要比Entropy运算快。\n",
    "\n",
    "    但是根据实际运行情况：\n",
    "    Gini， Entropy， 和Misclassification Error 基本一致， 一般不超过2%的区别。"
   ]
  },
  {
   "cell_type": "code",
   "execution_count": 266,
   "metadata": {
    "pycharm": {
     "name": "#%%\n"
    }
   },
   "outputs": [
    {
     "data": {
      "image/png": "[encoded data removed]",
      "text/plain": [
       "<Figure size 432x288 with 2 Axes>"
      ]
     },
     "metadata": {
      "needs_background": "light"
     },
     "output_type": "display_data"
    }
   ],
   "source": [
    "'''初始化树'''\n",
    "dtree1 = tree.DecisionTreeClassifier(criterion='entropy')\n",
    "dtree2 = tree.DecisionTreeClassifier(criterion='gini')\n",
    "#\n",
    "dtree1.fit(xTrain,yTrain), dtree2.fit(xTrain,yTrain)\n",
    "\n",
    "'''预测标注'''\n",
    "pre_y1 = dtree1.predict(xTest)\n",
    "pre_y2 = dtree2.predict(xTest)\n",
    "light1 = (pre_y1 == yTest)+0\n",
    "light2 = (pre_y2 == yTest)+0\n",
    "plt.subplot(121)\n",
    "plt.scatter(range(len(pre_y1)),pre_y1,c= light1)\n",
    "plt.title('decision tree + entropy')\n",
    "plt.xlabel('number of samples ')\n",
    "plt.ylabel('category')\n",
    "plt.text(0,1.75,f'score = {metrics.accuracy_score(pre_y1,yTest):.2f}')\n",
    "plt.subplot(122)\n",
    "plt.scatter(range(len(pre_y2)),pre_y2,c= light2)\n",
    "plt.title('decision tree + gini')\n",
    "plt.xlabel('number of samples ')\n",
    "plt.ylabel('category')\n",
    "plt.text(0,1.75,f'score = {metrics.accuracy_score(pre_y2,yTest):.2f}')\n",
    "plt.show()"
   ]
  },
  {
   "cell_type": "markdown",
   "metadata": {},
   "source": [
    "Popen原型:\n",
    "subprocess.Popen(args, bufsize=0, executable=None, stdin=None, stdout=None, stderr=None, preexec_fn=None, close_fds=False, shell=false)\n",
    "\n",
    "参数bufsize：指定缓冲.\n",
    "参数executable:用于指定可执行程序。一般情况下我们通过args参数来设置所要运行的程序。如果将参数shell设为 True，executable将指定程序使用的shell\n",
    "参数stdin, stdout, stderr分别表示程序的标准输入、输出、错误句柄。他们可以是PIPE，文件描述符或文件对象，也可以设置为None，表示从父进程继承\n",
    "参数stdin, stdout, stderr分别表示程序的标准输入、输出、错误句柄。他们可以是PIPE，文件描述符或文件对象，也可以设置为None，表示从父进程继承"
   ]
  },
  {
   "cell_type": "code",
   "execution_count": 269,
   "metadata": {
    "pycharm": {
     "name": "#%%\n"
    }
   },
   "outputs": [],
   "source": [
    "'''显示生成的决策树'''\n",
    "def check_valid_path(path):\n",
    "    \"\"\"检查文件路径是否有效，并返回以'/'分割的文件路径\"\"\"\n",
    "    if '\\\\' in path:\n",
    "        elements = str(Path(path)).split(sep='\\\\')\n",
    "        final_path = Path('/'.join(elements))\n",
    "    elif '/' in path:\n",
    "        final_path = Path(path)\n",
    "    else:\n",
    "        if not Path(path).exists():\n",
    "            raise Exception(\"Error: File path pattern is not correct.\")\n",
    "        else:\n",
    "            final_path = Path(path)\n",
    "    if not final_path.exists():\n",
    "        raise Exception(\"Error: Your file path does not exist.\")\n",
    "    if final_path != '':\n",
    "        return final_path\n",
    "    else:\n",
    "        return None\n",
    "\n",
    "\n",
    "def dot2png(dot_file_path=None, img_path=None):\n",
    "    \"\"\"决策树可视化中.dot文件转化为.png图片的函数\"\"\"\n",
    "    if not dot_file_path:\n",
    "        raise Exception(\".dot file is not given.\")\n",
    "    elif not dot_file_path.endswith('.dot'):\n",
    "        raise Exception(\"file provided is not '.dot' type.\")\n",
    "\n",
    "    dot_file_path = check_valid_path(dot_file_path)\n",
    "\n",
    "    if not img_path:\n",
    "        img_path = 'Dot/dt_png.png'\n",
    "    elif not img_path.endswith('.png'):\n",
    "        raise Exception(\"image file not end with '.png'.\")\n",
    "\n",
    "    img_path = img_path\n",
    "\n",
    "    cmd_args = 'dot'+'-Tpng'+dot_file_path+'-o'+img_path\n",
    "\n",
    "    cmd_pro = subprocess.Popen(args=cmd_args, stdout=subprocess.PIPE, stderr=subprocess.STDOUT)\n",
    "    retval = cmd_pro.stdout.read().decode('gbk')\n",
    "    if retval == '':\n",
    "        print(\"successfully create file \" + img_path)\n",
    "    else:\n",
    "        print(\"The program encountered some error: \")\n",
    "        print(retval)\n",
    "# '''方法1，先生成dot文件，然后在cmd命令行中，\n",
    "# 先到文件所在目录，再运行dot -Tpng dtree.dot -o dtree.png，得到图片'''\n",
    "with open('Dot/dtree1.dot','w') as f:\n",
    "    tree.export_graphviz(dtree1,f,feature_names = feature_names)\n",
    "\n",
    "with open('Dot/dtree2.dot','w') as f:\n",
    "    tree.export_graphviz(dtree2,f,feature_names = feature_names)\n",
    "# '''方法2，可能有bug，未实际使用，只提供思路'''\n",
    "# file_dot = \"Dot/dtree.dot\"\n",
    "# out_png = \"Dot/dtree.png\"\n",
    "# cmd_args = f\"dot - Tpng {file_dot} -o {out_png}\"\n",
    "# subprocess.Popen(args = \"D:\")\n",
    "# cmd_pro = subprocess.Popen(args=cmd_args, stdout=subprocess.PIPE, stderr=subprocess.STDOUT)\n",
    "#\n",
    "# '''方法三，调用封装函数'''"
   ]
  },
  {
   "cell_type": "markdown",
   "metadata": {
    "pycharm": {
     "name": "#%% md\n"
    }
   },
   "source": [
    "评估特征的重要性,也就是查看是那个特征最大限度上决定了分类\n",
    "\n",
    "plt 画柱状图\n",
    "# 纵向柱状图bar\n",
    "plt.bar(x, height, width=0.8, bottom=None, *, align='center', data=None, **kwargs)\n",
    "\n",
    "# 横向柱状图barh，简单理解bar旋转90°\n",
    "plt.barh(y, width, height=0.8, left=None, *, align='center', **kwargs)\n",
    "\n",
    "plt.bar()\n",
    "x：表示x坐标，数据类型为int或float类型，刻度自适应调整；也可传dataframe的object，x轴上等间距排列；\n",
    "height：表示柱状图的高度，也就是y坐标值，数据类型为int或float类型；\n",
    "width：表示柱状图的宽度，取值在0~1之间，默认为0.8；\n",
    "bottom：柱状图的起始位置，也就是y轴的起始坐标；\n",
    "align：柱状图的中心位置，默认\"center\"居中，可设置为\"lege\"边缘；\n",
    "color：柱状图颜色；\n",
    "edgecolor：边框颜色；\n",
    "linewidth：边框宽度；\n",
    "tick_label：下标标签；\n",
    "log：柱状图y周使用科学计算方法，bool类型；\n",
    "orientation：柱状图是竖直还是水平，竖直：“vertical”，水平条：“horizontal”；"
   ]
  },
  {
   "cell_type": "markdown",
   "metadata": {},
   "source": []
  },
  {
   "cell_type": "code",
   "execution_count": 271,
   "metadata": {
    "pycharm": {
     "name": "#%%\n"
    }
   },
   "outputs": [
    {
     "data": {
      "image/png": "[encoded data removed]",
      "text/plain": [
       "<Figure size 432x288 with 2 Axes>"
      ]
     },
     "metadata": {
      "needs_background": "light"
     },
     "output_type": "display_data"
    }
   ],
   "source": [
    "dtree1_importance = dtree1.feature_importances_\n",
    "dtree2_importance = dtree2.feature_importances_\n",
    "# 这是一个归一化的矩阵\n",
    "plt.subplot(211)\n",
    "plt.barh(range(4),dtree1_importance,align='center',tick_label =feature_names)\n",
    "plt.title('importance + entropy')\n",
    "plt.subplot(212)\n",
    "plt.barh(range(4),dtree2_importance,align='center',tick_label =feature_names)\n",
    "plt.title('importance + jini')\n",
    "plt.show()"
   ]
  },
  {
   "cell_type": "markdown",
   "metadata": {
    "pycharm": {
     "name": "#%% md\n"
    }
   },
   "source": [
    "由上图可见,对于鸢尾花的分类,决策树主要依据 petal width 和petal length 特征来进行不同类别的区分\n",
    "这个结果我们也可以在生成的dtree图中发现,depth = 0 的判断条件为petal with <= 0.8 就将45 个山鸢尾 全部分类完毕"
   ]
  }
 ],
 "metadata": {
  "kernelspec": {
   "display_name": "Python 3",
   "language": "python",
   "name": "python3"
  },
  "language_info": {
   "codemirror_mode": {
    "name": "ipython",
    "version": 3
   },
   "file_extension": ".py",
   "mimetype": "text/x-python",
   "name": "python",
   "nbconvert_exporter": "python",
   "pygments_lexer": "ipython3",
   "version": "3.6.13"
  }
 },
 "nbformat": 4,
 "nbformat_minor": 1
}