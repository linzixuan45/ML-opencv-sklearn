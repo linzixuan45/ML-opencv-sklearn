{
 "cells": [
  {
   "cell_type": "markdown",
   "metadata": {
    "collapsed": true,
    "pycharm": {
     "name": "#%% md\n"
    }
   },
   "source": []
  },
  {
   "cell_type": "markdown",
   "source": [
    "根据增益规则  手写决策树"
   ],
   "metadata": {
    "collapsed": false
   }
  },
  {
   "cell_type": "code",
   "execution_count": 36,
   "outputs": [
    {
     "data": {
      "text/plain": "[['Day',\n  'Outlook',\n  'Temp.',\n  'Humidity',\n  'Wind',\n  'Decision',\n  '1',\n  'Sunny',\n  'Hot',\n  'High',\n  'Weak',\n  'No',\n  '2',\n  'Sunny',\n  'Hot'],\n ['High',\n  'Strong',\n  'No',\n  '3',\n  'Overcast',\n  'Hot',\n  'High',\n  'Weak',\n  'Yes',\n  '4',\n  'Rain',\n  'Mild',\n  'High',\n  'Weak',\n  'Yes'],\n ['5',\n  'Rain',\n  'Cool',\n  'Normal',\n  'Weak',\n  'Yes',\n  '6',\n  'Rain',\n  'Cool',\n  'Normal',\n  'Strong',\n  'No',\n  '7',\n  'Overcast',\n  'Cool'],\n ['Normal',\n  'Strong',\n  'Yes',\n  '8',\n  'Sunny',\n  'Mild',\n  'High',\n  'Weak',\n  'No',\n  '9',\n  'Sunny',\n  'Cool',\n  'Normal',\n  'Weak',\n  'Yes'],\n ['10',\n  'Rain',\n  'Mild',\n  'Normal',\n  'Weak',\n  'Yes',\n  '11',\n  'Sunny',\n  'Mild',\n  'Normal',\n  'Strong',\n  'Yes',\n  '12',\n  'Overcast',\n  'Mild'],\n ['High',\n  'Strong',\n  'Yes',\n  '13',\n  'Overcast',\n  'Hot',\n  'Normal',\n  'Weak',\n  'Yes',\n  '14',\n  'Rain',\n  'Mild',\n  'High',\n  'Strong',\n  'No']]"
     },
     "execution_count": 36,
     "metadata": {},
     "output_type": "execute_result"
    }
   ],
   "source": [
    "'''数据导入，互联网上随便复制的一则数据'''\n",
    "import numpy as np\n",
    "import pandas as pd\n",
    "import matplotlib.pyplot as plt\n",
    "from sklearn import  tree\n",
    "str1 = \"Day\tOutlook\tTemp.\tHumidity\tWind\tDecision \\\n",
    "1\tSunny\tHot\tHigh\tWeak\tNo \\\n",
    "2\tSunny\tHot\tHigh\tStrong\tNo \\\n",
    "3\tOvercast\tHot\tHigh\tWeak\tYes \\\n",
    "4\tRain\tMild\tHigh\tWeak\tYes \\\n",
    "5\tRain\tCool\tNormal\tWeak\tYes \\\n",
    "6\tRain\tCool\tNormal\tStrong\tNo \\\n",
    "7\tOvercast\tCool\tNormal\tStrong\tYes \\\n",
    "8\tSunny\tMild\tHigh\tWeak\tNo \\\n",
    "9\tSunny\tCool\tNormal\tWeak\tYes \\\n",
    "10\tRain\tMild\tNormal\tWeak\tYes \\\n",
    "11\tSunny\tMild\tNormal\tStrong\tYes \\\n",
    "12\tOvercast\tMild\tHigh\tStrong\tYes \\\n",
    "13\tOvercast\tHot\tNormal\tWeak\tYes \\\n",
    "14\tRain\tMild\tHigh\tStrong\tNo \"\n",
    "data = str1.split()\n",
    "data = np.array(data).reshape((6,15))\n",
    "data = data.tolist()\n",
    "data"
   ],
   "metadata": {
    "collapsed": false,
    "pycharm": {
     "name": "#%%\n"
    }
   }
  },
  {
   "cell_type": "markdown",
   "source": [
    "采用树结构：二叉树\n",
    "选择属性准则：信息增益\n",
    "目的：分类\n",
    "\n",
    "\n",
    "算法思想\n",
    "\n",
    "生成决策树函数（训练样本）\n",
    "if 训练样本为空 ： 返回一个空结点\n",
    "end if 训练样本信息增益为0或属性所有取值相等：返回叶子结点\n",
    "else：\n",
    "——for 某一个属性 in 训练样本：#遍历每一个属性\n",
    "———— for 某属性的某个值 in 某一个属性：\n",
    "——————根据某属性的某个值，将训练样本划分为两个，计算信息增益\n",
    "————end for\n",
    "——end for\n",
    "——选择最大的信息增益，将这个属性按这个值进行左右分支，并回调这个函数两次"
   ],
   "metadata": {
    "collapsed": false
   }
  },
  {
   "cell_type": "code",
   "execution_count": 27,
   "outputs": [],
   "source": [],
   "metadata": {
    "collapsed": false,
    "pycharm": {
     "name": "#%%\n"
    }
   }
  },
  {
   "cell_type": "markdown",
   "source": [
    "代码模块功能\n",
    "uniquecounts(rows)：对训练样本的每一个可能的标签结果进行统计，返回dict类型。\n",
    "entropy(rows)：配合uniquecounts方法，进行信息熵的计算，返回float值。\n",
    "divideset(rows,column,value)：给定训练样本、第几列、某列中的某个值，效果是将训练样本以某列的某个值一分为二，返回俩个训练样本。\n",
    "class decisionnode()：初始化结点功能，用于构建树。\n",
    "buildtree(rows,scoref = entropy)：核心函数，参照算法思想的逻辑构写，递归生成结点。"
   ],
   "metadata": {
    "collapsed": false
   }
  },
  {
   "cell_type": "markdown",
   "source": [
    "isinstance() 函数来判断一个对象是否是一个已知的类型，类似 type()。\n",
    "isinstance() 与 type() 区别：\n",
    "type() 不会认为子类是一种父类类型，不考虑继承关系。\n",
    "isinstance() 会认为子类是一种父类类型，考虑继承关系"
   ],
   "metadata": {
    "collapsed": false
   }
  },
  {
   "cell_type": "code",
   "execution_count": 28,
   "outputs": [
    {
     "name": "stdout",
     "output_type": "stream",
     "text": [
      "{'Decision': 1}\n",
      "{'Yes': 4}\n",
      "{'Yes': 1}\n",
      "{'No': 4}\n",
      "{'No': 1}\n",
      "{'Yes': 4}\n"
     ]
    }
   ],
   "source": [
    "from math import log\n",
    "def divideset(rows,column,value):\n",
    "    #对于给定的集合，指定列数和这列某一个值\n",
    "    if isinstance(value,int) or isinstance(value,float):\n",
    "        split_function = lambda row:row[column] >= value\n",
    "        #fun = lambda  参数入口 ：函数体（默认返回运算结果） ，调用 fun（x，2）\n",
    "\n",
    "    else:\n",
    "        split_function = lambda row:row[column]==value\n",
    "    set1 = [row for row in rows if split_function(row)]\n",
    "    set2 = [row for row in rows if not split_function(row)]\n",
    "    # (return) row for row in rows\n",
    "    return(set1,set2)\n",
    "#定义节点的属性\n",
    "class decisionnode:\n",
    "    def __init__(self,col = -1,value = None, results = None, tb = None,fb = None):\n",
    "        self.col = col   # col是待检验的判断条件所对应的列索引值\n",
    "        self.value = value # value对应于为了使结果为True，当前列必须匹配的值\n",
    "        self.results = results #保存的是针对当前分支的结果，它是一个字典\n",
    "        self.tb = tb ## desision node,右子树，True对应\n",
    "        self.fb = fb ## desision node,左子树，False对应\n",
    "# 对y的各种可能的取值出现的个数进行计数.。其他函数利用该函数来计算数据集和的混杂程度例如{'Basic': 6, 'None': 7, 'Premium': 3}\n",
    "def uniquecounts(rows):\n",
    "    results = {}\n",
    "    for row in rows:\n",
    "        #计数结果在最后一列\n",
    "        r = row[len(row)-1]\n",
    "        if r not in results:\n",
    "            results[r] = 0\n",
    "        results[r]+=1\n",
    "    return results # 返回一个字典\n",
    "def entropy(rows):\n",
    "    \"\"\"\n",
    "    计算当前集合的信息熵H(D)\n",
    "    \"\"\"\n",
    "    log2 = lambda x:log(x)/log(2)\n",
    "#     log2 = lambda x:log(2,x)\n",
    "    results = uniquecounts(rows)\n",
    "    #开始计算熵的值\n",
    "    ent = 0.0\n",
    "    for r in results.keys():\n",
    "        p = float(results[r])/len(rows)\n",
    "        ent -=  p*log2(p)\n",
    "    return ent\n",
    "# 以递归方式构造树\n",
    "\n",
    "def buildtree(rows,scoref = entropy):\n",
    "    if len(rows)==0 : return decisionnode()\n",
    "    current_score = scoref(rows)\n",
    "\n",
    "    # 定义一些变量以记录最佳拆分条件\n",
    "    best_gain = 0.0\n",
    "    best_criteria = None\n",
    "    best_sets = None\n",
    "\n",
    "    column_count = len(rows[0]) - 1\n",
    "    for col in range(0,column_count): #遍历所有属性列\n",
    "        #在当前列中生成一个由不同值构成的序列\n",
    "        column_values = set({})  #用集合存放当前列有哪些不同值\n",
    "        for row in rows:\n",
    "            column_values.add(row[col])\n",
    "#         print(column_values)\n",
    "        #根据这一列中的每个值，尝试对数据集进行拆分\n",
    "        for value in column_values:  #某个属性可能的所有值，比如第一列：(direct)、'digg'、 'google'、 'kiwitobes'、 'slashdot'\n",
    "            (set1,set2) = divideset(rows,col,value)\n",
    "\n",
    "            # 信息增益\n",
    "            p = float(len(set1))/len(rows)\n",
    "            gain = current_score - p*scoref(set1) - (1-p)*scoref(set2)\n",
    "            if gain>best_gain and len(set1)>0 and len(set2)>0:\n",
    "                best_gain = gain\n",
    "                best_criteria = (col,value)  #结点分裂的属性\n",
    "                best_sets = (set1,set2)\n",
    "\n",
    "    #创建子分支\n",
    "    if best_gain>0:\n",
    "        trueBranch = buildtree(best_sets[0])  #递归调用\n",
    "        falseBranch = buildtree(best_sets[1])\n",
    "        return decisionnode(col = best_criteria[0],value = best_criteria[1],\n",
    "                            tb = trueBranch,fb = falseBranch)\n",
    "    else:\n",
    "        print(uniquecounts(rows))\n",
    "        return decisionnode(results = uniquecounts(rows)) #{'Basic': 6, 'None': 7, 'Premium': 3}\n",
    "tree = buildtree(data)"
   ],
   "metadata": {
    "collapsed": false,
    "pycharm": {
     "name": "#%%\n"
    }
   }
  },
  {
   "cell_type": "code",
   "execution_count": 29,
   "outputs": [],
   "source": [
    "#绘制决策树\n",
    "from PIL import Image, ImageDraw\n",
    "\n",
    "# 获取树的显示宽度，即有多少个叶子节点\n",
    "def getwidth(tree):\n",
    "    if tree.tb==None and tree.fb==None: return 1\n",
    "    return getwidth(tree.tb)+getwidth(tree.fb)\n",
    "\n",
    "# 获取树的显示深度（高度）\n",
    "def getdepth(tree):\n",
    "    if tree.tb==None and tree.fb==None: return 0\n",
    "    return max(getdepth(tree.tb),getdepth(tree.fb))+1\n",
    "\n",
    "# 绘制树形图\n",
    "def drawtree(tree,jpeg='tree.jpg'):\n",
    "    w=getwidth(tree)*100\n",
    "    h=getdepth(tree)*100+120\n",
    "\n",
    "    img=Image.new('RGB',(w,h),(255,255,255))\n",
    "    draw=ImageDraw.Draw(img)\n",
    "\n",
    "    drawnode(draw,tree,w/2,20)  #根节点坐标\n",
    "    img.save(jpeg,'JPEG')\n",
    "\n",
    "# 迭代画树的节点\n",
    "def drawnode(draw,tree,x,y):\n",
    "    if tree.results==None:\n",
    "        # 得到每个分支的宽度\n",
    "        w1=getwidth(tree.fb)*100\n",
    "        w2=getwidth(tree.tb)*100\n",
    "\n",
    "        # 确定此节点所要占据的总空间\n",
    "        left=x-(w1+w2)/2\n",
    "        right=x+(w1+w2)/2\n",
    "\n",
    "        # 绘制判断条件字符串\n",
    "        draw.text((x-20,y-10),str(tree.col)+':'+str(tree.value),(0,0,0))\n",
    "\n",
    "        # 绘制到分支的连线\n",
    "        draw.line((x,y,left+w1/2,y+100),fill=(255,0,0))\n",
    "        draw.line((x,y,right-w2/2,y+100),fill=(255,0,0))\n",
    "\n",
    "        # 绘制分支的节点\n",
    "        drawnode(draw,tree.fb,left+w1/2,y+100)\n",
    "        drawnode(draw,tree.tb,right-w2/2,y+100)\n",
    "    else:\n",
    "        txt=' \\n'.join(['%s:%d'%v for v in tree.results.items()])\n",
    "        draw.text((x-20,y),txt,(0,0,0))\n",
    "drawtree(tree,jpeg='tree.jpg')"
   ],
   "metadata": {
    "collapsed": false,
    "pycharm": {
     "name": "#%%\n"
    }
   }
  }
 ],
 "metadata": {
  "kernelspec": {
   "display_name": "Python 3",
   "language": "python",
   "name": "python3"
  },
  "language_info": {
   "codemirror_mode": {
    "name": "ipython",
    "version": 2
   },
   "file_extension": ".py",
   "mimetype": "text/x-python",
   "name": "python",
   "nbconvert_exporter": "python",
   "pygments_lexer": "ipython2",
   "version": "2.7.6"
  }
 },
 "nbformat": 4,
 "nbformat_minor": 0
}