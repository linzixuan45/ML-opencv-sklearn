{
 "cells": [
  {
   "cell_type": "markdown",
   "metadata": {
    "collapsed": true,
    "pycharm": {
     "name": "#%% md\n"
    }
   },
   "source": [
    "在OpenCV中，每个机器学习模型都派生于cv::ml::StatModel基类。\n",
    "这包括训练模型的一种方法（名为train）以及度量模型性能的一种方法（名为calcError).\n",
    "\n",
    "面向对象编程,我们主要处理对象或者是类,对象是由函数和成员属性组成\n",
    "用OpenCV构建一个机器学习模型始终遵循相同的逻辑，如下：\n",
    "\n",
    "初始化：我们通过名称调用模型，创建模型的一个空实例.\n",
    "\n",
    "设置参数：如果模型需要一些参数，我们可以通过setter方法设置这些参数，每个模型的 setter方法都可以不同。例如，为了让一个k-NN算法工作，我们需要指定它的开放参数k（我们稍后会学到).\n",
    "\n",
    "训练模型：每个模型都必须提供一个名为train的方法，用于将模型与某些数据进行拟合.\n",
    "\n",
    "预测新标签：每个模型都必须提供一个名为predict的方法，用于预测新数据的标签.\n",
    "\n",
    "给模型评分：每个模型都必须提供一个名为calcError的方法，用于度量性能。对于每个模型，这种计算可能是不同的."
   ]
  },
  {
   "cell_type": "code",
   "execution_count": null,
   "metadata": {
    "collapsed": true,
    "pycharm": {
     "name": "#%%\n",
     "is_executing": true
    }
   },
   "outputs": [],
   "source": [
    "s = 3\n",
    "print(s)"
   ]
  },
  {
   "cell_type": "markdown",
   "metadata": {},
   "source": [
    "1. 使用准确率、精度和召回率评分分类器\n",
    "accuracy_score：准确率（accuracy）计算测试集中预测正确的数据点数，并返回正确预测的数据点的比例。以将图片分类为猫或狗为例，准确率表示正确分类为包含猫或狗的图片比例。该函数是最基本的分类器评分函数."
   ]
  },
  {
   "cell_type": "markdown",
   "metadata": {},
   "source": [
    "precision_score：精度（precision）描述了一个分类器不把包含狗的图片标记为猫的能力。或者说，在分类器认为测试集所有包含猫的图片中，精度是实际包含一只猫的图片比例."
   ]
  },
  {
   "cell_type": "code",
   "execution_count": null,
   "outputs": [],
   "source": [],
   "metadata": {
    "collapsed": false,
    "pycharm": {
     "name": "#%%\n"
    }
   }
  },
  {
   "cell_type": "markdown",
   "metadata": {},
   "source": [
    "recall_score：召回率（recall，或者敏感度）描述了一个分类器检索包含猫的所有图片的能力。或者说，测试集所有包含猫的图片中，召回率是正确识别为猫的图片比例\n",
    "\n",
    "scikit-learn的metrics模块\n",
    "对分类的 评分"
   ]
  },
  {
   "cell_type": "code",
   "execution_count": 1,
   "metadata": {
    "pycharm": {
     "name": "#%%\n"
    }
   },
   "outputs": [],
   "source": [
    "import numpy as np\n",
    "import matplotlib.pyplot as plt\n",
    "from sklearn import metrics\n",
    "%matplotlib inline\n",
    "np.random.seed(42)\n",
    "y_true = np.random.randint(0,2,size=5)\n",
    "\n",
    "y_predict = np.ones(5,dtype=np.int32)\n",
    "\n",
    "#正确预测的个数"
   ]
  },
  {
   "cell_type": "markdown",
   "source": [],
   "metadata": {
    "collapsed": false
   }
  },
  {
   "cell_type": "markdown",
   "metadata": {},
   "source": [
    "使用均方差、可释方差和R平方评分回归\n",
    "对于回归问题的评分\n",
    "mean_squared_error：对于回归问题，最常用的误差评估指标是对训练集中每个数据点的预测值和真实目标值之间的平方误差（所有数据点的平均值）进行度量."
   ]
  },
  {
   "cell_type": "markdown",
   "metadata": {},
   "source": [
    "explained_variance_score：一个更复杂的评估指标是度量一个模型对测试数据的变化或分配的可解释程度。通常使用相关系数度量可释方差的数量."
   ]
  },
  {
   "cell_type": "markdown",
   "metadata": {},
   "source": [
    "r2_score：R2得分（R平方）与可释方差得分密切相关，但使用一个无偏方差估计。它也被称为决定系数（coefficient of determination)."
   ]
  },
  {
   "cell_type": "code",
   "execution_count": 2,
   "metadata": {
    "pycharm": {
     "name": "#%%\n"
    }
   },
   "outputs": [
    {
     "data": {
      "image/png": "[encoded data removed]",
      "text/plain": [
       "<matplotlib.figure.Figure at 0x11c4276c908>"
      ]
     },
     "metadata": {},
     "output_type": "display_data"
    }
   ],
   "source": [
    "x = np.linspace(0,10,100)\n",
    "y_pred = np.sin(x)\n",
    "y_true = np.sin(x)+np.random.rand(x.size)-0.5\n",
    "\n",
    "plt.plot(x,y_pred,linewidth = 4,label='model')\n",
    "\n",
    "plt.plot(x,y_true,'o',label = 'data')\n",
    "\n",
    "plt.xlabel('x')\n",
    "plt.ylabel('y')\n",
    "plt.legend(loc = 'lower left')\n",
    "plt.show()"
   ]
  },
  {
   "cell_type": "code",
   "execution_count": null,
   "outputs": [],
   "source": [],
   "metadata": {
    "collapsed": false,
    "pycharm": {
     "name": "#%%\n"
    }
   }
  }
 ],
 "metadata": {
  "kernelspec": {
   "display_name": "Python 3",
   "language": "python",
   "name": "python3"
  },
  "language_info": {
   "codemirror_mode": {
    "name": "ipython",
    "version": 3
   },
   "file_extension": ".py",
   "mimetype": "text/x-python",
   "name": "python",
   "nbconvert_exporter": "python",
   "pygments_lexer": "ipython3",
   "version": "3.6.2"
  }
 },
 "nbformat": 4,
 "nbformat_minor": 1
}