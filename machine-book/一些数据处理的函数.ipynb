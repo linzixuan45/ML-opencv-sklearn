{
 "cells": [
  {
   "cell_type": "code",
   "execution_count": 2,
   "metadata": {
    "collapsed": true
   },
   "outputs": [
    {
     "data": {
      "text/plain": "tensor([[[0.0000, 0.0000, 0.0000, 0.0000],\n         [0.0000, 0.0000, 0.0000, 0.0000],\n         [0.0000, 0.0000, 0.0000, 0.0000]],\n\n        [[0.6458, 0.0000, 0.0000, 0.0000],\n         [0.7968, 0.0000, 0.0000, 0.0000],\n         [0.5712, 0.0000, 0.0000, 0.0000]]])"
     },
     "execution_count": 2,
     "metadata": {},
     "output_type": "execute_result"
    }
   ],
   "source": [
    "import torch\n",
    "import numpy as np\n",
    "A = torch.rand(2,3,4)\n",
    "sort = torch.tensor([[[1,3,0,2]]])\n",
    "A1,A2 = A[0,:,:],A[1, : ,:]\n",
    "A1_1,A1_2 = A1[:,0],A1[:,2]\n",
    "A,A1_1\n",
    "B = torch.zeros_like(A)\n",
    "B[1,:,0] = A[1,:,1]\n",
    "B"
   ]
  },
  {
   "cell_type": "code",
   "execution_count": 3,
   "outputs": [
    {
     "name": "stdout",
     "output_type": "stream",
     "text": [
      "[1 3 0 2]\n"
     ]
    },
    {
     "data": {
      "text/plain": "(tensor([[[0.7603, 0.3164, 0.0646, 0.9082],\n          [0.6739, 0.9924, 0.4831, 0.8318],\n          [0.6027, 0.5403, 0.8244, 0.5409]],\n \n         [[0.0213, 0.6458, 0.1598, 0.4550],\n          [0.8655, 0.7968, 0.0680, 0.1946],\n          [0.1817, 0.5712, 0.7926, 0.1893]]]),\n tensor([[[0.3164, 0.9082, 0.7603, 0.0646],\n          [0.9924, 0.8318, 0.6739, 0.4831],\n          [0.5403, 0.5409, 0.6027, 0.8244]],\n \n         [[0.6458, 0.4550, 0.0213, 0.1598],\n          [0.7968, 0.1946, 0.8655, 0.0680],\n          [0.5712, 0.1893, 0.1817, 0.7926]]]))"
     },
     "execution_count": 3,
     "metadata": {},
     "output_type": "execute_result"
    }
   ],
   "source": [
    "def index_select(Tensor,sort):\n",
    "    if Tensor.shape[2] != sort.shape[2]:\n",
    "        return False\n",
    "    tensor1 = torch.zeros_like(Tensor)\n",
    "    sort =sort.squeeze().numpy()#[1, 3, 0, 2]\n",
    "    print(sort)\n",
    "    for i,data1 in enumerate(Tensor):\n",
    "        #tensor([[0.0267, 0.1841, 0.3536, 0.8287],\n",
    "        #[0.7979, 0.7503, 0.0724, 0.1624],\n",
    "        #[0.9605, 0.5758, 0.3361, 0.8355]])\n",
    "        for index,sort_num in enumerate(sort):\n",
    "            tensor1[i,:,index] = Tensor[i,:, sort_num]\n",
    "    return  tensor1\n",
    "tensor1 = index_select(A,sort)\n",
    "A,tensor1"
   ],
   "metadata": {
    "collapsed": false,
    "pycharm": {
     "name": "#%%\n"
    }
   }
  }
 ],
 "metadata": {
  "kernelspec": {
   "display_name": "Python 3",
   "language": "python",
   "name": "python3"
  },
  "language_info": {
   "codemirror_mode": {
    "name": "ipython",
    "version": 2
   },
   "file_extension": ".py",
   "mimetype": "text/x-python",
   "name": "python",
   "nbconvert_exporter": "python",
   "pygments_lexer": "ipython2",
   "version": "2.7.6"
  }
 },
 "nbformat": 4,
 "nbformat_minor": 0
}