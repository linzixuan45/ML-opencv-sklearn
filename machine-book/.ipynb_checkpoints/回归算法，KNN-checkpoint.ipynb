{
 "cells": [
  {
   "cell_type": "markdown",
   "metadata": {},
   "source": [
    "关键点为：\n",
    "    K值的选取和点距离的计算。\n",
    "点距离的计算\n",
    "    L2二维空间欧式距离\n",
    "    多维空间欧式距离\n",
    "\n",
    "K值的选取：\n",
    "    K取多少值好呢？答案是通过交叉验证\n",
    "    不断增加K的值，然后计算验证集合的方差，最终找到一个比较合适的K值"
   ]
  },
  {
   "cell_type": "markdown",
   "metadata": {
    "pycharm": {
     "name": "#%% md\n"
    }
   },
   "source": [
    "KNN算法优点\n",
    "简单易用，相比其他算法，KNN算是比较简洁明了的算法。即使没有很高的数学基础也能搞清楚它的原理。\n",
    "模型训练时间快，上面说到KNN算法是惰性的，这里也就不再过多讲述。\n",
    "预测效果好。\n",
    "对异常值不敏感\n",
    "KNN算法缺点\n",
    "对内存要求较高，因为该算法存储了所有训练数据\n",
    "预测阶段可能很慢\n",
    "对不相关的功能和数据规模敏感\n",
    "\n",
    "\n",
    "当需要使用分类算法，且数据比较大的时候就可以尝试使用KNN算法进行分类了"
   ]
  },
  {
   "cell_type": "markdown",
   "metadata": {},
   "source": [
    "KNN模型的构建\n",
    "1）生成一些训练数据。\n",
    "2）对于一个给定的数k，创建一个k-NN对象。\n",
    "3）为我们要分类的一个新数据点找到k个最近邻。\n",
    "4）根据多数票分配新数据点的类标签.\n",
    "5）绘制结果."
   ]
  },
  {
   "cell_type": "code",
   "execution_count": 69,
   "metadata": {
    "pycharm": {
     "name": "#%%\n"
    }
   },
   "outputs": [],
   "source": [
    "import numpy as np\n",
    "import cv2\n",
    "import matplotlib.pyplot as plt\n",
    "%matplotlib inline\n",
    "plt.style.use('ggplot') #设置plot背景样式\n",
    "np.random.seed(42)"
   ]
  },
  {
   "cell_type": "code",
   "execution_count": 70,
   "metadata": {
    "pycharm": {
     "name": "#%%\n"
    }
   },
   "outputs": [
    {
     "data": {
      "text/plain": [
       "array([0])"
      ]
     },
     "execution_count": 70,
     "metadata": {},
     "output_type": "execute_result"
    }
   ],
   "source": [
    "single_data = np.random.randint(0,100,2)\n",
    "\n",
    "single_label = np.random.randint(0,2,1)\n",
    "single_label"
   ]
  },
  {
   "cell_type": "markdown",
   "metadata": {},
   "source": [
    "randint 随机生成[0,2) 然后shape个数据"
   ]
  },
  {
   "cell_type": "code",
   "execution_count": 71,
   "metadata": {
    "pycharm": {
     "name": "#%%\n"
    }
   },
   "outputs": [],
   "source": [
    "def generate_data(num_sample, num_features = 2):\n",
    "    data_size = (num_sample,num_features)\n",
    "    train_data = np.random.randint(0, 100, size= data_size)\n",
    "    label_size = (num_sample,1)\n",
    "    labels = np.random.randint(0, 2, size=label_size)\n",
    "    return train_data.astype(np.float32),labels"
   ]
  },
  {
   "cell_type": "markdown",
   "metadata": {},
   "source": [
    "plot 画图绘制城镇地图势力"
   ]
  },
  {
   "cell_type": "code",
   "execution_count": 72,
   "metadata": {
    "pycharm": {
     "name": "#%%\n"
    }
   },
   "outputs": [],
   "source": [
    "train_data ,labels = generate_data(11)\n",
    "def plot_data(blues, reds):\n",
    "    plt.figure(figsize=(10,6))\n",
    "    plt.scatter(blues[:,0], blues[:,1],c = 'blue' ,marker='s',s=180)\n",
    "    plt.scatter(reds[:,0],reds[: ,1],c = 'red' ,marker='^',s =180)\n",
    "    plt.xlabel('x')\n",
    "    plt.ylabel('y')\n",
    "\n",
    "def new_plot_data(blues, reds):\n",
    "    plt.scatter(blues[:,0], blues[:,1],c = 'blue' ,s=180)\n",
    "    plt.scatter(reds[:,0],reds[: ,1],c = 'red' ,s =180)\n",
    "    plt.xlabel('x')\n",
    "    plt.ylabel('y')"
   ]
  },
  {
   "cell_type": "markdown",
   "metadata": {},
   "source": [
    "将数据集拆分为red 和blue,ravel平展数组\n",
    "数据分析的一个小技巧\n",
    "\n",
    "a = np.array([1,2,3,4])\n",
    "b = [False,True,False,True]\n",
    "c= a[b==False]\n",
    "d = a[b==True]\n",
    "c= [2,4]\n"
   ]
  },
  {
   "cell_type": "code",
   "execution_count": 73,
   "metadata": {
    "pycharm": {
     "name": "#%%\n"
    }
   },
   "outputs": [
    {
     "data": {
      "text/plain": [
       "(array([1, 3]), array([2, 4]))"
      ]
     },
     "execution_count": 73,
     "metadata": {},
     "output_type": "execute_result"
    }
   ],
   "source": [
    "a = np.array([1,2,3,4])\n",
    "b = np.array([0,1,0,1])\n",
    "c = a[b==False]\n",
    "d = a[b==True]\n",
    "c,d\n"
   ]
  },
  {
   "cell_type": "markdown",
   "metadata": {},
   "source": [
    "reshape(-1) 和 ravel()函数的作用一致\n",
    "blue 是0 ，red 是1"
   ]
  },
  {
   "cell_type": "code",
   "execution_count": 74,
   "metadata": {
    "pycharm": {
     "name": "#%%\n"
    }
   },
   "outputs": [],
   "source": [
    "blue = train_data[labels.reshape(-1) == 0]\n",
    "red = train_data[labels.ravel() == 1]"
   ]
  },
  {
   "cell_type": "markdown",
   "metadata": {},
   "source": []
  },
  {
   "cell_type": "code",
   "execution_count": 75,
   "metadata": {
    "pycharm": {
     "name": "#%%\n"
    }
   },
   "outputs": [
    {
     "data": {
      "image/png": "[encoded data removed]",
      "text/plain": [
       "<Figure size 720x432 with 1 Axes>"
      ]
     },
     "metadata": {},
     "output_type": "display_data"
    }
   ],
   "source": [
    "plot_data(blue,red)"
   ]
  },
  {
   "cell_type": "markdown",
   "metadata": {},
   "source": [
    "正式使用KNN分类器 cv2.ml.KNearest_create()"
   ]
  },
  {
   "cell_type": "markdown",
   "metadata": {},
   "source": []
  },
  {
   "cell_type": "code",
   "execution_count": 76,
   "metadata": {
    "pycharm": {
     "name": "#%%\n"
    }
   },
   "outputs": [
    {
     "data": {
      "text/plain": [
       "True"
      ]
     },
     "execution_count": 76,
     "metadata": {},
     "output_type": "execute_result"
    }
   ],
   "source": [
    "knn = cv2.ml.KNearest_create()\n",
    "knn.train(train_data,cv2.ml.ROW_SAMPLE,labels)"
   ]
  },
  {
   "cell_type": "code",
   "execution_count": 77,
   "metadata": {
    "pycharm": {
     "name": "#%%\n"
    }
   },
   "outputs": [
    {
     "data": {
      "image/png": "[encoded data removed]",
      "text/plain": [
       "<Figure size 720x432 with 1 Axes>"
      ]
     },
     "metadata": {},
     "output_type": "display_data"
    }
   ],
   "source": [
    "\n",
    "plot_data(blue,red)\n"
   ]
  },
  {
   "cell_type": "code",
   "execution_count": 84,
   "metadata": {
    "pycharm": {
     "name": "#%%\n"
    }
   },
   "outputs": [
    {
     "data": {
      "image/png": "[encoded data removed]",
      "text/plain": [
       "<Figure size 720x432 with 1 Axes>"
      ]
     },
     "metadata": {},
     "output_type": "display_data"
    }
   ],
   "source": [
    "newcomer,_ = generate_data(5) # index and label (2, 2)\n",
    "ret , results, neighbor , dist = knn.findNearest(newcomer,1)\n",
    "ret , results, neighbor , dist\n",
    "results = np.array(results,dtype=np.int)\n",
    "\n",
    "new_label = results\n",
    "new_blue = newcomer[results.ravel() == 0]\n",
    "new_red = newcomer[results.ravel()== 1]\n",
    "plot_data(blue,red)\n",
    "new_plot_data(new_blue,new_red)\n",
    "plt.show()\n"
   ]
  },
  {
   "cell_type": "markdown",
   "metadata": {
    "pycharm": {
     "name": "#%% md\n"
    }
   },
   "source": [
    "knn报告最近邻居是250个任意单位距离，这个邻居标签是1\n",
    "k-NN的结果随k值的变化而变化。但是，通常我们事先并不知道k取什么值最合适"
   ]
  }
 ],
 "metadata": {
  "kernelspec": {
   "display_name": "Python 3",
   "language": "python",
   "name": "python3"
  },
  "language_info": {
   "codemirror_mode": {
    "name": "ipython",
    "version": 3
   },
   "file_extension": ".py",
   "mimetype": "text/x-python",
   "name": "python",
   "nbconvert_exporter": "python",
   "pygments_lexer": "ipython3",
   "version": "3.6.13"
  }
 },
 "nbformat": 4,
 "nbformat_minor": 1
}
