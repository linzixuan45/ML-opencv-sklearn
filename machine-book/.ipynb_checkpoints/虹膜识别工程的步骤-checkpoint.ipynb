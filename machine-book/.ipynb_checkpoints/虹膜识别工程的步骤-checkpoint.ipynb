{
 "cells": [
  {
   "cell_type": "markdown",
   "metadata": {
    "collapsed": true,
    "pycharm": {
     "name": "#%% md\n"
    }
   },
   "source": [
    "一个完整的虹膜识别任务步骤主要包含以下几个部分"
   ]
  },
  {
   "cell_type": "markdown",
   "metadata": {
    "pycharm": {
     "name": "#%% md\n"
    }
   },
   "source": [
    "1.data acquisition\n",
    "    涉及到的问题\n",
    "    small size\n",
    "    resolution\n",
    "    红外光的波长,图片质量\n",
    "    设计一个专门的识别设备\n",
    "\n",
    "2.detection\n",
    "    distance\n",
    "    focusing\n",
    "    objective\n",
    "\n",
    "\n",
    "3.live detection\n",
    "    is a human face？\n",
    "    is a live animal or image ？\n",
    "\n",
    "4.quality assessment\n",
    "    结构评估\n",
    "    FR - IQA\n",
    "    RR - IQA\n",
    "    NR  - IQA\n",
    "    评测算法\n",
    "        ：srocc 两组数据的等级相关性\n",
    "        ：PLCC 概率论的线性相关系数 皮尔森系数\n",
    "        ： RMSE  MSE(均方误差)的平方根\n",
    "5.location\n",
    "    图片 定位\n",
    "    分割\n",
    "    haar 小波变换生成特征图\n",
    "    卷积方式\n",
    "\n",
    "6.normalization\n",
    "    归一化,不同尺度的图片和参数需要一个统一的空间才能评测\n",
    "\n",
    "7.Image enhancement\n",
    "    颜色 enhancement\n",
    "    质量 enhancement\n",
    "    上采样\n",
    "    下采样\n",
    "    超分辨率重构 SRCNN\n",
    "\n",
    "\n",
    "8.feature extraction\n",
    "    特征是多样的,如本质特征,纹理特征,局部变化特征,定序测量等等\n",
    "    差异是稳定的\n",
    "    主流的虹膜特征办法 ：ordinal code    定序测量\n",
    "    原理：将识别出的虹膜图拉伸成矩形,然后由亮暗对比生成1 0 0 1等等\n",
    "        将虹膜图片映射为一个唯一的特征编码\n",
    "    最终获得 ordinal code\n",
    "\n",
    "\n",
    "9.Recognition\n",
    "    识别,将新的数据对比数据库来求得相似性,判别是否为同一个特征"
   ]
  },
  {
   "cell_type": "markdown",
   "metadata": {},
   "source": [
    "key words\n",
    "\n",
    "易用性\n",
    "\n",
    "鲁棒性(robust)\n",
    "\n",
    "安全性\n",
    "\n",
    "实时性\n",
    "\n",
    "可测性"
   ]
  }
 ],
 "metadata": {
  "kernelspec": {
   "display_name": "Python 3",
   "language": "python",
   "name": "python3"
  },
  "language_info": {
   "codemirror_mode": {
    "name": "ipython",
    "version": 3
   },
   "file_extension": ".py",
   "mimetype": "text/x-python",
   "name": "python",
   "nbconvert_exporter": "python",
   "pygments_lexer": "ipython3",
   "version": "3.6.13"
  }
 },
 "nbformat": 4,
 "nbformat_minor": 1
}
