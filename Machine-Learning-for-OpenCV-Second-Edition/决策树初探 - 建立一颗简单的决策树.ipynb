{
 "cells": [
  {
   "cell_type": "markdown",
   "source": [
    "前置知识\n",
    "    文本特征的表示：\n",
    "       对文本数据编码最简单的办法就是单词计数,count\n",
    "       scikit-learn 中可以使用countVectorizer 计数向量器\n",
    "       默认情况下这个函数以稀疏矩阵形式存储特征矩阵X\n",
    "\n",
    "       (0-1)编码 DictVectorizer,工作方式是只需将包含数据的一个字典\n",
    "       送入fit_transform函数，该函数自动确定编码哪些特征, 若指定sparse = True 返回稀疏矩阵"
   ],
   "metadata": {
    "collapsed": false
   }
  },
  {
   "cell_type": "code",
   "execution_count": 89,
   "outputs": [
    {
     "data": {
      "text/plain": "(['__class__',\n  '__delattr__',\n  '__dict__',\n  '__dir__',\n  '__doc__',\n  '__eq__',\n  '__format__',\n  '__ge__',\n  '__getattribute__',\n  '__getstate__',\n  '__gt__',\n  '__hash__',\n  '__init__',\n  '__init_subclass__',\n  '__le__',\n  '__lt__',\n  '__module__',\n  '__ne__',\n  '__new__',\n  '__reduce__',\n  '__reduce_ex__',\n  '__repr__',\n  '__setattr__',\n  '__setstate__',\n  '__sizeof__',\n  '__str__',\n  '__subclasshook__',\n  '__weakref__',\n  '_char_ngrams',\n  '_char_wb_ngrams',\n  '_check_n_features',\n  '_check_stop_words_consistency',\n  '_check_vocabulary',\n  '_count_vocab',\n  '_get_param_names',\n  '_get_tags',\n  '_limit_features',\n  '_more_tags',\n  '_repr_html_',\n  '_repr_html_inner',\n  '_repr_mimebundle_',\n  '_sort_features',\n  '_stop_words_id',\n  '_validate_data',\n  '_validate_params',\n  '_validate_vocabulary',\n  '_warn_for_unused_params',\n  '_white_spaces',\n  '_word_ngrams',\n  'analyzer',\n  'binary',\n  'build_analyzer',\n  'build_preprocessor',\n  'build_tokenizer',\n  'decode',\n  'decode_error',\n  'dtype',\n  'encoding',\n  'fit',\n  'fit_transform',\n  'fixed_vocabulary_',\n  'get_feature_names',\n  'get_params',\n  'get_stop_words',\n  'input',\n  'inverse_transform',\n  'lowercase',\n  'max_df',\n  'max_features',\n  'min_df',\n  'ngram_range',\n  'preprocessor',\n  'set_params',\n  'stop_words',\n  'stop_words_',\n  'strip_accents',\n  'token_pattern',\n  'tokenizer',\n  'transform',\n  'vocabulary',\n  'vocabulary_'],\n ['extraction', 'feature', 'money', 'selection'])"
     },
     "execution_count": 89,
     "metadata": {},
     "output_type": "execute_result"
    }
   ],
   "source": [
    "'''countVectorizer 使用'''\n",
    "from sklearn.feature_extraction.text import CountVectorizer\n",
    "sample = ['feature money','feature selection','feature extraction']\n",
    "\n",
    "Vect = CountVectorizer() #vect 对象\n",
    "X = Vect.fit_transform(sample)\n",
    "dir(Vect),Vect.get_feature_names() # ['extraction', 'feature', 'money', 'selection'])v"
   ],
   "metadata": {
    "collapsed": false,
    "pycharm": {
     "name": "#%%\n"
    }
   }
  },
  {
   "cell_type": "markdown",
   "metadata": {
    "collapsed": true,
    "pycharm": {
     "name": "#%% md\n"
    }
   },
   "source": [
    "基于决策树进行医疗诊断\n",
    "涉及到的数学知识与算法运算\n",
    "    基尼系数(Gini)\n",
    "    信息增益\n",
    "    方差缩减\n",
    "    过拟合和减枝\n",
    "\n",
    "步骤：\n",
    "    1.从数据中构建简单的决策树，并将其用于分类或者回归.\n",
    "    2.使用基尼系数、信息增益和方差缩减确定下一步进行的决策"
   ]
  },
  {
   "cell_type": "markdown",
   "source": [
    "什么是决策树：\n",
    "    是一种简单但功能强大的监督学习问题模型\n",
    "    难点是：如何从数据中提取合适的特征\n",
    "\n",
    "    关键：如何确认节点所包含的样本属于同一类, ->计算信息商的值大小,值越小,信息越少,集合纯度越高\n",
    "    信息增益：\n",
    "\n",
    "构建第一颗决策树(医疗领域数据)\n"
   ],
   "metadata": {
    "collapsed": false,
    "pycharm": {
     "name": "#%% md\n"
    }
   }
  },
  {
   "cell_type": "code",
   "execution_count": 90,
   "outputs": [],
   "source": [
    "'''数据生成，合成数据，也叫数据增广 data augmentation'''\n",
    "'''常用的数据生成办法：\n",
    "    旋转图片\n",
    "    镜像图片\n",
    "    Gan生成对抗网络\n",
    "\n",
    "    要点：合成的数据应该与你的实际数据有相似的特征。合成的数据和实际数据越相似，对作为机器学习工程师的你也就越有利'''\n",
    "\n",
    "'''弄清楚问题的类别，这是一个分类问题，实际上药品是类别标签'''\n",
    "import random\n",
    "import matplotlib.pyplot as plt\n",
    "import numpy as np\n",
    "def generate_data(nums):\n",
    "    list_num = []\n",
    "    for i in range(nums):\n",
    "        new_entry = {}\n",
    "        new_entry['age']  = random.randint(15,80)\n",
    "        new_entry['sex'] = random.choice(['M','F'])\n",
    "        new_entry['cholestrol '] = random.choice(['Low', 'High','Normal'])\n",
    "        new_entry['Na'] = random.random() # 0-1之间 随机float\n",
    "        new_entry['K'] = random.random()\n",
    "        new_entry['drug'] = random.choice(['A','B','C','D'])\n",
    "        list_num.append(new_entry)\n",
    "\n",
    "    return list_num"
   ],
   "metadata": {
    "collapsed": false,
    "pycharm": {
     "name": "#%%\n"
    }
   }
  },
  {
   "cell_type": "code",
   "execution_count": 91,
   "outputs": [
    {
     "data": {
      "text/plain": "<Figure size 432x288 with 2 Axes>",
      "image/png": "[encoded data removed]"
     },
     "metadata": {
      "needs_background": "light"
     },
     "output_type": "display_data"
    }
   ],
   "source": [
    "'''\n",
    "1)确认分类标签,找到标签项目,并提取为target\n",
    "2)删除字典中的所有drug项\n",
    "'''\n",
    "data = generate_data(40)\n",
    "target = [d['drug'] for d in data]  # 数据的标签\n",
    "target = [ord(t) - 65 for t in target]\n",
    "# 把标签从原始数据中删除\n",
    "for d in data:\n",
    "    d.pop('drug')\n",
    "\n",
    "'''以钾离子浓度为x axis，纳离子浓度为 y axis 表现数据分布情况'''\n",
    "\n",
    "# color = 序列时，会按值的不同显示不同颜色\n",
    "Na = [d['Na']for d in data]\n",
    "K = [d['K'] for d in data]\n",
    "plt.subplot(121)\n",
    "plt.title('No classification')\n",
    "plt.xlabel('Na')\n",
    "plt.ylabel('K')\n",
    "plt.scatter(Na,K)\n",
    "plt.subplot(122)\n",
    "plt.xlabel('Na')\n",
    "\n",
    "plt.title('vue color to classification')\n",
    "plt.scatter(Na,K,c= target)\n",
    "plt.show()"
   ],
   "metadata": {
    "collapsed": false,
    "pycharm": {
     "name": "#%%\n"
    }
   }
  },
  {
   "cell_type": "markdown",
   "source": [
    "数据处理\n",
    "使用sklearn 中的 DictVectorizer 对字典类型的数据进行one-hot 向量化"
   ],
   "metadata": {
    "collapsed": false
   }
  },
  {
   "cell_type": "code",
   "execution_count": 92,
   "outputs": [
    {
     "data": {
      "text/plain": "({'age': 67,\n  'sex': 'M',\n  'cholestrol ': 'Normal',\n  'Na': 0.36415239058694204,\n  'K': 0.12516641802367878},\n array([ 0.12516642,  0.36415239, 67.        ,  0.        ,  0.        ,\n         1.        ,  0.        ,  1.        ]))"
     },
     "execution_count": 92,
     "metadata": {},
     "output_type": "execute_result"
    }
   ],
   "source": [
    "'''数据处理'''\n",
    "from sklearn.feature_extraction import DictVectorizer\n",
    "Dic_vect = DictVectorizer(sparse=False) #数据不用稀疏矩阵压缩\n",
    "data_pre = Dic_vect.fit_transform(data) #转为 one - hot向量矩阵\n",
    "data[0],data_pre[0]"
   ],
   "metadata": {
    "collapsed": false,
    "pycharm": {
     "name": "#%%\n"
    }
   }
  },
  {
   "cell_type": "code",
   "execution_count": 93,
   "outputs": [],
   "source": [
    "'''数据拆分'''\n",
    "import sklearn.model_selection as ms\n",
    "xTrain,xTest,yTrain,yTest = ms.train_test_split(data_pre,target,test_size=0.2,random_state=7)"
   ],
   "metadata": {
    "collapsed": false,
    "pycharm": {
     "name": "#%%\n"
    }
   }
  },
  {
   "cell_type": "code",
   "execution_count": 99,
   "outputs": [],
   "source": [
    "'''构建一颗决策树'''\n",
    "from sklearn import tree\n",
    "dtree = tree.DecisionTreeClassifier()\n",
    "dtree.fit(xTrain,yTrain)\n",
    "pre_y = dtree.predict(xTest)"
   ],
   "metadata": {
    "collapsed": false,
    "pycharm": {
     "name": "#%%\n"
    }
   }
  },
  {
   "cell_type": "code",
   "execution_count": 100,
   "outputs": [
    {
     "data": {
      "text/plain": "Text(0, 6, 'the score is0.5')"
     },
     "execution_count": 100,
     "metadata": {},
     "output_type": "execute_result"
    },
    {
     "data": {
      "text/plain": "<Figure size 432x288 with 1 Axes>",
      "image/png": "[encoded data removed]"
     },
     "metadata": {
      "needs_background": "light"
     },
     "output_type": "display_data"
    }
   ],
   "source": [
    "'''查看此决策树的性能'''\n",
    "from sklearn import metrics\n",
    "dtree_score = metrics.accuracy_score(pre_y,yTest)\n",
    "light = (pre_y == yTest)+0\n",
    "plt.scatter(pre_y,range(len(pre_y)),c = light)\n",
    "plt.text(0,6,f'the score is{dtree_score}')"
   ],
   "metadata": {
    "collapsed": false,
    "pycharm": {
     "name": "#%%\n"
    }
   }
  },
  {
   "cell_type": "markdown",
   "source": [
    "由于数据是随机生成的,分类性能很差可以理解"
   ],
   "metadata": {
    "collapsed": false
   }
  },
  {
   "cell_type": "markdown",
   "source": [],
   "metadata": {
    "collapsed": false
   }
  }
 ],
 "metadata": {
  "kernelspec": {
   "display_name": "Python 3",
   "language": "python",
   "name": "python3"
  },
  "language_info": {
   "codemirror_mode": {
    "name": "ipython",
    "version": 2
   },
   "file_extension": ".py",
   "mimetype": "text/x-python",
   "name": "python",
   "nbconvert_exporter": "python",
   "pygments_lexer": "ipython2",
   "version": "2.7.6"
  }
 },
 "nbformat": 4,
 "nbformat_minor": 0
}